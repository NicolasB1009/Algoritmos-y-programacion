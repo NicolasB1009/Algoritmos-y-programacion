{
  "cells": [
    {
      "cell_type": "markdown",
      "metadata": {
        "id": "QZ6XziVD76Jw"
      },
      "source": [
        "<h1 align=\"center\">Taller - Instrucciones repetitivas en Python</h1>\n",
        "\n",
        "Desarrolle la solucion a los siguientes problemas en Python, usando funciones y el programa correspondiente\n",
        "\n",
        "---"
      ]
    },
    {
      "cell_type": "markdown",
      "metadata": {
        "id": "uJJp2xk076J1"
      },
      "source": [
        "## Ejercicio 01\n",
        "\n",
        "Una librería ofrece dos tipos de descuentos ante la compra de un libro. Si el libro tiene un precio inferior a cien mil pesos, el descuento es del 12% del precio; pero en cualquier otro caso, el descuento asciende a un 18%.\n",
        "\n",
        "* Escriba una función que halle el precio neto de un libro (precio menos descuento) de un libro, dado el precio del libro.\n",
        "* Ahora, escriba un programa que permita leer el precio de varios libros (finalizar cuando el precio es cero o negativo) y mostrar para cada libro, el precio neto (usando la función desarrollada anteriormente)"
      ]
    },
    {
      "cell_type": "code",
      "execution_count": null,
      "metadata": {
        "id": "58mamZV176J2"
      },
      "outputs": [],
      "source": [
        "# Definición de la función\n",
        "def Hallar_precio_neto(Precio:float)->float:\n",
        "  if(Precio<100000):\n",
        "    Precio_neto=Precio-(Precio*0.12)\n",
        "  else:\n",
        "    Precio_neto=Precio-(Precio*0.18)\n",
        "  return Precio_neto\n",
        "\n",
        "\n",
        "# Programa principal\n",
        "Precio=float(input(\"Ingrese el precio del libro: \"))\n",
        "while Precio>0:\n",
        "  print(\"El precio neto es:\",Hallar_precio_neto(Precio))\n",
        "  Precio=float(input(\"Ingrese el precio del libro: \"))"
      ]
    },
    {
      "cell_type": "markdown",
      "metadata": {
        "id": "jF4Qm9FE76J3"
      },
      "source": []
    },
    {
      "cell_type": "markdown",
      "metadata": {
        "id": "weyR_q0d76J4"
      },
      "source": [
        "## Ejercicio 02\n",
        "\n",
        "Un vendedor recibe una comisión por el volumen de ventas que realice. Las reglas para asignarle la comisión al vendedor son las siguientes:\n",
        "\n",
        "Ventas | Comisión\n",
        "---|---\n",
        "Inferior a 50 mil pesos | 7% de las ventas\n",
        "Entre 50 mil y 100 mil pesos | 9% de las ventas más 5 mil pesos\n",
        "Entre 100 mil y 200 mil pesos | 11% de las ventas más 10 mil pesos\n",
        "Entre 200 mil y 500 mil pesos | 13% de las ventas más 20 mil pesos\n",
        "Más de 500 mil pesos | 15% de las ventas más 40 mil pesos\n",
        "\n",
        "* Escriba una función que recibe el valor de las ventas de un vendedor y que retorne la comisión\n",
        "* Escriba un programa que lea el valor de ventas de varios vendedores de la empresa (finalizar cuando las ventas sean negativas), y usando la función anterior, calcule la comisión y la imprima por pantalla."
      ]
    },
    {
      "cell_type": "code",
      "execution_count": null,
      "metadata": {
        "id": "kMitVJVW76J4"
      },
      "outputs": [],
      "source": [
        "# Definición de la función\n",
        "def Valor_comision(Ventas:float)->float:\n",
        "  if(Ventas<50000):\n",
        "    Comision=Ventas*0.07\n",
        "  elif(Ventas<100000):\n",
        "    Comision=Ventas*0.09+5000\n",
        "  elif(Ventas<200000):\n",
        "    Comision=Ventas*0.11+10000\n",
        "  elif(Ventas<500000):\n",
        "    Comision=Ventas*0.13+20000\n",
        "  else:\n",
        "    Comision=Ventas*0.15+40000\n",
        "  return Comision\n",
        "\n",
        "\n",
        "# Programa principal\n",
        "Ventas=float(input(\"Ingrese las ventas: \"))\n",
        "while Ventas>=0:\n",
        "  print(\"La comision es:\",Valor_comision(Ventas))\n",
        "  Ventas=float(input(\"Ingrese las ventas: \"))\n"
      ]
    },
    {
      "cell_type": "markdown",
      "metadata": {
        "id": "YWyFJrR876J4"
      },
      "source": [
        "---\n"
      ]
    },
    {
      "cell_type": "markdown",
      "metadata": {
        "id": "2IHUrLVh76J5"
      },
      "source": [
        "## Ejercicio 03\n",
        "\n",
        "Una empresa ofrece a sus empleados un salario mensual fijo, y un porcertaje de las ventas como una comisión adicional a ese salario mensual. Esta comisión se calcula de la siguiente manera: si las ventas de un empleado excede los 50 mil pesoso, la comisión será de un 12% de las ventas que están por encima de los 50 mil pesos, en otro caso no habrá comisión.\n",
        "\n",
        "* Primero, construya una función en la que dado las ventas que hizo el empleado, determine cuánto es la comisión\n",
        "* Ahora hay que hacer un programa que calcule y muestre los salarios y comisiones de todos los empleados de la empresa. Para cada empleado hay que preguntarle al usuario, el salario mensual y las ventas realizadas, y mostrar la comisión por las ventas (usando la función anterior) y el salario neto (salario más comisión). Como no sabemos cuántos empleados hay, después de mostrar esta información, debemos preguntarle al usuario si desea seguir o no."
      ]
    },
    {
      "cell_type": "code",
      "execution_count": null,
      "metadata": {
        "id": "aTuMvKmw76J5"
      },
      "outputs": [],
      "source": [
        "# Definición de la función\n",
        "def Hallar_comision(Salario:float,Ventas:float)->(float,float):\n",
        "  if(Ventas>50000):\n",
        "    Comision=Ventas*0.12\n",
        "    Salario_neto=Salario+Comision\n",
        "  else:\n",
        "    Comision=0\n",
        "    Salario_neto=Salario+Comision\n",
        "  return(Comision,Salario_neto)\n",
        "\n",
        "\n",
        "# Programa principal\n",
        "while (True):\n",
        "  Ventas=float(input(\"Ingrese las ventas: \"))\n",
        "  Salario=float(input(\"Ingrese el salario mensual: \"))\n",
        "  print(\"La comision es:\",Hallar_comision(Salario,Ventas)[0])\n",
        "  print(\"El salario neto es:\",Hallar_comision(Salario,Ventas)[1])\n",
        "  continuar=input(\"¿Desea continuar?: \")\n",
        "  if(continuar==\"no\"):\n",
        "    break\n",
        "\n",
        ""
      ]
    },
    {
      "cell_type": "markdown",
      "metadata": {
        "id": "6M93ZEZh76J5"
      },
      "source": [
        "---"
      ]
    },
    {
      "cell_type": "markdown",
      "metadata": {
        "id": "ge6TBY0P76J6"
      },
      "source": [
        "## Ejercicio 04\n",
        "\n",
        "En una empresa se le paga a los trabajadores al final de cada semana de acuerdo a las reglas dadas a continuación:\n",
        "\n",
        "* Si trabajas 35 horas o menos, se le paga un valor de 15 mil pesos la hora;\n",
        "* Si trabaja más de 35 horas pero menos de 60, el valor de la hora es de 15 mil por las primeras 35 horas y de 18 mil por cada hora trabajada por encima de las 35\n",
        "* Si trabaja más de 60 horas, las primeras 35 se pagan a 15 mil, las siguiente 25 horas a 18 mil cada una y las horas horas trabajadas por encima de las 60 horas, se le paga a 25 mil pesos cada una.\n",
        "\n",
        "Vamos a buscar imprimir el salario semanal de cada uno de los empleados de la empresa. Para ello:\n",
        "\n",
        "* Escriba una función que reciba el número de horas trabajadas por un empleado y retorne el salario\n",
        "* Un programa que le pregunte al usuario el número de empleados que trabajan en la empresa, y para cada uno de esos, pregunte el número de horas trabajadas en la semana, y usando la función anterior, imprima el salario mensual de ese empleado."
      ]
    },
    {
      "cell_type": "code",
      "execution_count": null,
      "metadata": {
        "id": "o8NultX076J6"
      },
      "outputs": [],
      "source": [
        "# Definición de la función\n",
        "def Hallar_salario(Horas:float)->float:\n",
        "  if(Horas<=35):\n",
        "    Salario=Horas*15000\n",
        "  elif(Horas<=60):\n",
        "    Salario=35*15000+((Horas-35)*18000)\n",
        "  else:\n",
        "    Salario=35*15000+25*18000+((Horas-60)*25000)\n",
        "  return Salario\n",
        "\n",
        "\n",
        "# Programa principal\n",
        "Empleados=int(input(\"Ingrese el numero de empleados: \"))\n",
        "for i in range(0,Empleados,1):\n",
        "  Horas=float(input(\"Ingrese las horas trabajadas: \"))\n",
        "  print(\"El salario es:\",Hallar_salario(Horas))\n",
        "\n"
      ]
    }
  ],
  "metadata": {
    "colab": {
      "provenance": []
    },
    "kernelspec": {
      "display_name": "Python 3",
      "language": "python",
      "name": "python3"
    },
    "language_info": {
      "codemirror_mode": {
        "name": "ipython",
        "version": 3
      },
      "file_extension": ".py",
      "mimetype": "text/x-python",
      "name": "python",
      "nbconvert_exporter": "python",
      "pygments_lexer": "ipython3",
      "version": "3.7.7"
    }
  },
  "nbformat": 4,
  "nbformat_minor": 0
}